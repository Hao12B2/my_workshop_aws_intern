{
 "cells": [
  {
   "cell_type": "markdown",
   "metadata": {},
   "source": [
    "1. \n",
    "Tạo repo có tên: **username**.github.io \n",
    "--> Hao12B2.github.io"
   ]
  },
  {
   "cell_type": "markdown",
   "metadata": {},
   "source": [
    "2. \n",
    "Tại thư mục làm việc với hugo, xoá thư mục public hiện có, chạy lệnh sau:\n",
    "```shell\n",
    "hugo server --baseURL \"https://<user_name>.github.io/<prefix>/\" --appendPort=false\n",
    "```\n",
    "\n",
    "--> hugo server --baseURL \"https://Hao12B2.github.io/my_workshop_aws_intern/\" --appendPort=false\n",
    "\n",
    "Khi đó, thư mục public mới sẽ được tạo, ta nhấn Ctrl + C để dừng trên terminal."
   ]
  },
  {
   "cell_type": "markdown",
   "metadata": {},
   "source": [
    "3.\n",
    "Chạy file python replace.py để thay đổi đường dẫn đến các file hình ảnh, giúp đảm bảo khi triển khai không bị lỗi hiển thị ảnh.\n",
    "--> Đổi tên input_path và input_text sao cho phù hợp."
   ]
  },
  {
   "cell_type": "markdown",
   "metadata": {},
   "source": [
    "4.\n",
    "Copy thư mục public ra một thư mục khác (**Nếu đã có thư mục mà liên kết với **username**.github.io rồi thì copy thư mục public vào đó**). Sau đó đổi tên thư mục thành `<prefix>` \n",
    "\n",
    "--> `public` trở thành `my_workshop_aws_intern`"
   ]
  },
  {
   "cell_type": "markdown",
   "metadata": {},
   "source": [
    "5. Tại nơi chứa thư mục <prefix>, chạy các lệnh sau để push thư mục lên:\n",
    "\n",
    "- git init\n",
    "- git add <prefix>\n",
    "- git commit -m \"upload workshops to github pages\"\n",
    "- git branch -M main\n",
    "- git remote add origin https://github.com/<user_name>/<user_name>.github.io.git\n",
    "- git push -u origin main\n",
    "\n",
    "**Trường hợp chưa có liên kết với git từ trước:**\n",
    "- git init\n",
    "- git add my_workshop_aws_intern\n",
    "- git commit -m \"upload workshops to github pages\"\n",
    "- git branch -M main\n",
    "- git remote add origin https://github.com/Hao12B2/Hao12b2>.github.io.git\n",
    "- git push -u origin main\n",
    "\n",
    "**Trường hợp đã có liên kết:**\n",
    "- git pull origin main\n",
    "- git checkout main\n",
    "- git add my_workshop_aws_intern\n",
    "- git commit -m \"upload workshops to github pages\"\n",
    "- git push -u origin main"
   ]
  }
 ],
 "metadata": {
  "kernelspec": {
   "display_name": "base",
   "language": "python",
   "name": "python3"
  },
  "language_info": {
   "name": "python",
   "version": "3.11.7"
  }
 },
 "nbformat": 4,
 "nbformat_minor": 2
}
